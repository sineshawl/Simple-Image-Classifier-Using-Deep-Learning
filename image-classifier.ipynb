{
 "cells": [
  {
   "cell_type": "code",
   "execution_count": 5,
   "metadata": {},
   "outputs": [],
   "source": [
    "import tensorflow as tf\n",
    "import os\n",
    "import cv2"
   ]
  },
  {
   "cell_type": "code",
   "execution_count": 6,
   "metadata": {},
   "outputs": [
    {
     "data": {
      "text/plain": [
       "['happy people', 'sad people']"
      ]
     },
     "execution_count": 6,
     "metadata": {},
     "output_type": "execute_result"
    }
   ],
   "source": [
    "data_path = \"my data\""
   ]
  },
  {
   "cell_type": "markdown",
   "metadata": {},
   "source": [
    "### Removing Images with Unnecessary formats"
   ]
  },
  {
   "cell_type": "code",
   "execution_count": 7,
   "metadata": {},
   "outputs": [],
   "source": [
    "img_format = ['jpg', 'jpeg', 'png', 'bmp']"
   ]
  },
  {
   "cell_type": "code",
   "execution_count": 10,
   "metadata": {},
   "outputs": [],
   "source": [
    "for img_category in os.listdir(data_path):\n",
    "    for img in os.listdir(os.path.join(data_path, img_category)):\n",
    "        img_path = os.path.join(data_path, img_category, img)\n",
    "        \n",
    "        img_type = img.split(\".\")[-1] # taking the extension of an image\n",
    "        if img_type not in img_format:\n",
    "            os.remove(img_path) # removing an images if their extension does't included in img_format\n",
    "        "
   ]
  },
  {
   "cell_type": "code",
   "execution_count": 22,
   "metadata": {},
   "outputs": [
    {
     "data": {
      "text/plain": [
       "['-businesspeople-choose-you-for-employment-or-recruitment-illustration-vector.jpg',\n",
       " '-in-svg-png-gif-file-formats--group-crowd-smiling-pack-illustrations-6983306.png',\n",
       " '-posing-in-vibrant-studio-settings-representing-unity-and-inclusivity-photo.jpeg',\n",
       " '05-12-21-happy-people.jpg',\n",
       " '1000_F_165246984_Ihe5LVattiq8zEPivcPqrtM85x7noWJw.jpg',\n",
       " '1687d86811a2c25b877448ed47218131.jpg',\n",
       " '170404-happy-workers-feature.jpg',\n",
       " '1920px-face-smile.svg_.png',\n",
       " '20150413185238-secrets-happy-entrepreneurs-woman-gratitude-rainbow-.jpeg',\n",
       " '25115.jpg',\n",
       " '343515-worldhappinessreport1440.jpg',\n",
       " '360_F_484873483_hg1ofIdXbMha5lKEDG3hJBrwKh1oikTq.jpg',\n",
       " '360_F_498729118_RiwWjhYDF4LgfnfEL0WCh6Ls4oh0cHPV.jpg',\n",
       " '360_F_709672486_C7eaa5uLXe7qjYwuX0BvPeaUSemlVzpZ.jpg',\n",
       " '380649337.jpg',\n",
       " '383627315.jpg',\n",
       " '4239f3d51d092f69d529f372a37b4601.jpg',\n",
       " '427394C200000578-0-image-a-24_1500384481554.jpg',\n",
       " '56f455011e0000b300705475.jpeg',\n",
       " '8cEbMbgxi.jpg',\n",
       " '8iGbMbgjT.jpg',\n",
       " 'aecd7b04-bb40-42ad-9985-d63a3198a878.jpg',\n",
       " 'bigstock-Portrait-Of-Smiling-Employees-272904928-min-scaled.jpg',\n",
       " 'bigstock-Senior-citizens-on-holiday-22143350.jpg',\n",
       " 'business-people-succesful-celebrating-group-successful-39416686-800x500.jpg',\n",
       " 'businesswoman-giving-high-five-male-260nw-2226244055.jpg',\n",
       " 'cropped-fotolia_66770084_subscription_monthly_xxl.jpg',\n",
       " 'diverse-friends-students-shoot_53876-47012.jpg',\n",
       " 'dv2051009.jpg',\n",
       " 'erse-student-friends-having-fun-standing-college-campus-friendship-314535004.jpg',\n",
       " 'f5a276ca-6ac2-4042-8e32-82fa9fcd06ea_1920x1080.jpg',\n",
       " 'friends-youth-happy-people-cartoon-W80EC5.jpg',\n",
       " 'genuinely-happy-person.png',\n",
       " 'getty_152414899_97046097045006_68075.jpg',\n",
       " 'getty_478389113_970647970450091_99776.jpg',\n",
       " 'getty_494581822_130796.jpg',\n",
       " 'getty_505175324_2000131020009280246_158016.jpg',\n",
       " 'getty_511990984_130175.jpg',\n",
       " 'goup-happy-people-group-jumping-isolated-white-background-35582232.jpg',\n",
       " 'group-happy-people-party-isolated-white-background-31666248.jpg',\n",
       " 'group-of-happy-people-friends-together-in-casual-vector-16631901.jpg',\n",
       " 'group-young-happy-people-with-their-hands-up_369728-62.jpg',\n",
       " 'habits-of-happy-people-jpg.jpg',\n",
       " 'HABITS-OF-HEALTHY-PEOPLE.jpg',\n",
       " 'hand-drawn-happy-people-jumping_23-2149092878.jpg',\n",
       " 'Happiest-People-Atqnews.jpg',\n",
       " 'Happiestpersonintheworld21.jpg',\n",
       " 'happy-190806.jpg',\n",
       " 'happy-family-happy-people.jpg',\n",
       " 'Happy-People-2.jpeg',\n",
       " 'Happy-people-800x533.jpg',\n",
       " 'happy-people-jump-with-raised-arms-characters-win_107791-14884.jpg',\n",
       " 'happy-people.jpeg',\n",
       " 'happy-people12.jpg',\n",
       " 'happy-people2.png',\n",
       " 'happy-people21.jpg',\n",
       " 'happy-woman-smiling-in-sunshine.jpg',\n",
       " 'happy_people_optimized-740x494.jpg',\n",
       " 'HD-wallpaper-happy-people-graphy-people-children-flowers-nature-spring-abstract-happy.jpg',\n",
       " 'healthy-habits.jpg',\n",
       " 'image11.jpeg',\n",
       " 'image12.jpeg',\n",
       " 'image16.jpeg',\n",
       " 'image17.jpeg',\n",
       " 'image18.jpeg',\n",
       " 'image19.jpeg',\n",
       " 'image20.jpeg',\n",
       " 'image21.jpeg',\n",
       " 'image24.jpeg',\n",
       " 'image25.jpeg',\n",
       " 'image26.jpeg',\n",
       " 'image27.jpeg',\n",
       " 'image28.jpeg',\n",
       " 'image29.jpeg',\n",
       " 'image31.jpeg',\n",
       " 'image32.jpeg',\n",
       " 'image33.jpeg',\n",
       " 'image34.jpeg',\n",
       " 'image_blog-people-jumping-by-city_717x240.png',\n",
       " 'img.jpg',\n",
       " 'Joyful-Happy-People-1.jpg',\n",
       " 'maxresdefault.jpg',\n",
       " 'MV5BM2IzZGNkZmEtNDY1OS00ZmYyLTk3MmQtNTI4NzM4MTIzODAxXkEyXkFqcGc._V1_.jpg',\n",
       " 'nm-how-happiness-affects-health-tnail.jpg',\n",
       " 'people-dog-jumping-beach-23531593.jpg',\n",
       " 'pngtree-team-of-happy-people-png-image_7800848.png',\n",
       " 'portrait-of-four-jumping-happy-people-C5H685.jpg',\n",
       " 'rating-victory-isolated-white-background-concept-friendship-healthy-91211177.jpg',\n",
       " 'Screen-Shot-2012-10-23-at-12.57.22-PM.png',\n",
       " 'sjnv_cnh7ugnaddm7so6sq.jpg',\n",
       " 'smiling-woman_W6GFOSFAXA.jpg',\n",
       " 'smiling-young-african-american-woman-260nw-2290057229.jpg',\n",
       " 'stock-photo-group-of-happy-people-isolated-over-white-background-102307264.jpg',\n",
       " 'Successful-year.jpg',\n",
       " 'sunset-570881_1280.jpg',\n",
       " 'Super-Happy-People-yay.jpg',\n",
       " 'tjhu4mgslz4.jpg',\n",
       " 'very-happy-people.jpg',\n",
       " 'Woman-Smiling-At-Dinner-Party.jpg']"
      ]
     },
     "execution_count": 22,
     "metadata": {},
     "output_type": "execute_result"
    }
   ],
   "source": [
    "os.listdir(os.path.join(data_path, \"happy people\"))"
   ]
  },
  {
   "cell_type": "code",
   "execution_count": 23,
   "metadata": {},
   "outputs": [
    {
     "ename": "FileNotFoundError",
     "evalue": "[WinError 3] The system cannot find the path specified: ' '",
     "output_type": "error",
     "traceback": [
      "\u001b[1;31m---------------------------------------------------------------------------\u001b[0m",
      "\u001b[1;31mFileNotFoundError\u001b[0m                         Traceback (most recent call last)",
      "Cell \u001b[1;32mIn[23], line 1\u001b[0m\n\u001b[1;32m----> 1\u001b[0m os\u001b[38;5;241m.\u001b[39mpath\u001b[38;5;241m.\u001b[39mjoin(data_path, \u001b[38;5;124m\"\u001b[39m\u001b[38;5;124mhappy people\u001b[39m\u001b[38;5;124m\"\u001b[39m, os\u001b[38;5;241m.\u001b[39mlistdir(os\u001b[38;5;241m.\u001b[39mpath\u001b[38;5;241m.\u001b[39mjoin(data_path, \u001b[38;5;124m\"\u001b[39m\u001b[38;5;124mhappy people\u001b[39m\u001b[38;5;124m\"\u001b[39m)[\u001b[38;5;241m2\u001b[39m]))\n",
      "\u001b[1;31mFileNotFoundError\u001b[0m: [WinError 3] The system cannot find the path specified: ' '"
     ]
    }
   ],
   "source": [
    "os.path.join(data_path, \"happy people\", os.listdir(os.path.join(data_path, \"happy people\")[2]))"
   ]
  },
  {
   "cell_type": "code",
   "execution_count": 13,
   "metadata": {},
   "outputs": [],
   "source": [
    "s =os.listdir(data_path)[0]"
   ]
  },
  {
   "cell_type": "code",
   "execution_count": 14,
   "metadata": {},
   "outputs": [
    {
     "ename": "FileNotFoundError",
     "evalue": "[WinError 3] The system cannot find the path specified: 'happy people'",
     "output_type": "error",
     "traceback": [
      "\u001b[1;31m---------------------------------------------------------------------------\u001b[0m",
      "\u001b[1;31mFileNotFoundError\u001b[0m                         Traceback (most recent call last)",
      "Cell \u001b[1;32mIn[14], line 1\u001b[0m\n\u001b[1;32m----> 1\u001b[0m os\u001b[38;5;241m.\u001b[39mlistdir(s)\n",
      "\u001b[1;31mFileNotFoundError\u001b[0m: [WinError 3] The system cannot find the path specified: 'happy people'"
     ]
    }
   ],
   "source": [
    "os.listdir(s)"
   ]
  },
  {
   "cell_type": "code",
   "execution_count": 18,
   "metadata": {},
   "outputs": [
    {
     "data": {
      "text/plain": [
       "'my data'"
      ]
     },
     "execution_count": 18,
     "metadata": {},
     "output_type": "execute_result"
    }
   ],
   "source": [
    "# let test one image\n",
    "test_dir = os.listdir(data_path)[0]\n",
    "data_path\n",
    "# img.path.join(os.path(data_path), test_dir)\n",
    "# test_img = os.listdir(img.path.join(data_path, test_dir))[2]\n",
    "# test_img"
   ]
  }
 ],
 "metadata": {
  "kernelspec": {
   "display_name": "base",
   "language": "python",
   "name": "python3"
  },
  "language_info": {
   "codemirror_mode": {
    "name": "ipython",
    "version": 3
   },
   "file_extension": ".py",
   "mimetype": "text/x-python",
   "name": "python",
   "nbconvert_exporter": "python",
   "pygments_lexer": "ipython3",
   "version": "3.11.5"
  }
 },
 "nbformat": 4,
 "nbformat_minor": 2
}
